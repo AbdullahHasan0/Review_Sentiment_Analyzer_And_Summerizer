{
 "cells": [
  {
   "cell_type": "markdown",
   "metadata": {},
   "source": [
    "# Review Sentiment Analysis"
   ]
  },
  {
   "cell_type": "markdown",
   "metadata": {},
   "source": [
    "## 1. Load & preprocess data."
   ]
  },
  {
   "cell_type": "markdown",
   "metadata": {},
   "source": [
    "### Importing Libraries"
   ]
  },
  {
   "cell_type": "code",
   "execution_count": null,
   "metadata": {
    "execution": {
     "iopub.execute_input": "2025-04-22T16:42:07.200609Z",
     "iopub.status.busy": "2025-04-22T16:42:07.199672Z",
     "iopub.status.idle": "2025-04-22T16:42:07.309651Z",
     "shell.execute_reply": "2025-04-22T16:42:07.308853Z",
     "shell.execute_reply.started": "2025-04-22T16:42:07.200570Z"
    },
    "trusted": true
   },
   "outputs": [],
   "source": [
    "import pandas as pd\n",
    "from datasets import Dataset\n",
    "import re\n",
    "from sklearn.model_selection import train_test_split\n",
    "from transformers import TrainingArguments, Trainer, EarlyStoppingCallback,AutoModelForSequenceClassification,AutoTokenizer\n",
    "\n",
    "import evaluate\n",
    "import numpy as np\n"
   ]
  },
  {
   "cell_type": "markdown",
   "metadata": {},
   "source": [
    "### Loading Data"
   ]
  },
  {
   "cell_type": "code",
   "execution_count": 3,
   "metadata": {
    "execution": {
     "iopub.execute_input": "2025-04-22T16:42:09.653724Z",
     "iopub.status.busy": "2025-04-22T16:42:09.653344Z",
     "iopub.status.idle": "2025-04-22T16:42:09.796976Z",
     "shell.execute_reply": "2025-04-22T16:42:09.795816Z",
     "shell.execute_reply.started": "2025-04-22T16:42:09.653689Z"
    },
    "trusted": true
   },
   "outputs": [],
   "source": [
    "# Load dataset from a CSV file\n",
    "data = pd.read_csv('../data/amazon.csv')\n"
   ]
  },
  {
   "cell_type": "code",
   "execution_count": 7,
   "metadata": {
    "execution": {
     "iopub.execute_input": "2025-04-22T16:42:12.977568Z",
     "iopub.status.busy": "2025-04-22T16:42:12.976493Z",
     "iopub.status.idle": "2025-04-22T16:42:12.987368Z",
     "shell.execute_reply": "2025-04-22T16:42:12.986199Z",
     "shell.execute_reply.started": "2025-04-22T16:42:12.977499Z"
    },
    "trusted": true
   },
   "outputs": [
    {
     "data": {
      "text/plain": [
       "Index(['Text', 'label'], dtype='object')"
      ]
     },
     "execution_count": 7,
     "metadata": {},
     "output_type": "execute_result"
    }
   ],
   "source": [
    "data.columns"
   ]
  },
  {
   "cell_type": "code",
   "execution_count": 8,
   "metadata": {
    "execution": {
     "iopub.execute_input": "2025-04-22T16:42:14.611139Z",
     "iopub.status.busy": "2025-04-22T16:42:14.610250Z",
     "iopub.status.idle": "2025-04-22T16:42:14.630371Z",
     "shell.execute_reply": "2025-04-22T16:42:14.629015Z",
     "shell.execute_reply.started": "2025-04-22T16:42:14.611083Z"
    },
    "trusted": true
   },
   "outputs": [
    {
     "data": {
      "text/html": [
       "<div>\n",
       "<style scoped>\n",
       "    .dataframe tbody tr th:only-of-type {\n",
       "        vertical-align: middle;\n",
       "    }\n",
       "\n",
       "    .dataframe tbody tr th {\n",
       "        vertical-align: top;\n",
       "    }\n",
       "\n",
       "    .dataframe thead th {\n",
       "        text-align: right;\n",
       "    }\n",
       "</style>\n",
       "<table border=\"1\" class=\"dataframe\">\n",
       "  <thead>\n",
       "    <tr style=\"text-align: right;\">\n",
       "      <th></th>\n",
       "      <th>Text</th>\n",
       "      <th>label</th>\n",
       "    </tr>\n",
       "  </thead>\n",
       "  <tbody>\n",
       "    <tr>\n",
       "      <th>0</th>\n",
       "      <td>This is  the best apps acording to a bunch of ...</td>\n",
       "      <td>1</td>\n",
       "    </tr>\n",
       "    <tr>\n",
       "      <th>1</th>\n",
       "      <td>This is a pretty good version of the game for ...</td>\n",
       "      <td>1</td>\n",
       "    </tr>\n",
       "    <tr>\n",
       "      <th>2</th>\n",
       "      <td>this is a really . there are a bunch of levels...</td>\n",
       "      <td>1</td>\n",
       "    </tr>\n",
       "    <tr>\n",
       "      <th>3</th>\n",
       "      <td>This is a silly game and can be frustrating, b...</td>\n",
       "      <td>1</td>\n",
       "    </tr>\n",
       "    <tr>\n",
       "      <th>4</th>\n",
       "      <td>This is a terrific game on any pad. Hrs of fun...</td>\n",
       "      <td>1</td>\n",
       "    </tr>\n",
       "  </tbody>\n",
       "</table>\n",
       "</div>"
      ],
      "text/plain": [
       "                                                Text  label\n",
       "0  This is  the best apps acording to a bunch of ...      1\n",
       "1  This is a pretty good version of the game for ...      1\n",
       "2  this is a really . there are a bunch of levels...      1\n",
       "3  This is a silly game and can be frustrating, b...      1\n",
       "4  This is a terrific game on any pad. Hrs of fun...      1"
      ]
     },
     "execution_count": 8,
     "metadata": {},
     "output_type": "execute_result"
    }
   ],
   "source": [
    "data.head()"
   ]
  },
  {
   "cell_type": "markdown",
   "metadata": {},
   "source": [
    "### Preprocessing"
   ]
  },
  {
   "cell_type": "code",
   "execution_count": 12,
   "metadata": {
    "execution": {
     "iopub.execute_input": "2025-04-22T10:01:43.801498Z",
     "iopub.status.busy": "2025-04-22T10:01:43.801161Z",
     "iopub.status.idle": "2025-04-22T10:01:43.806364Z",
     "shell.execute_reply": "2025-04-22T10:01:43.805462Z",
     "shell.execute_reply.started": "2025-04-22T10:01:43.801467Z"
    },
    "trusted": true
   },
   "outputs": [],
   "source": [
    "def clean_text(text):\n",
    "    text = re.sub(r\"http\\S+|www\\S+|https\\S+\", '', text, flags=re.MULTILINE)  # Remove URLs\n",
    "    text = re.sub(r'\\@w+|\\#', '', text)  # Remove mentions and hashtags\n",
    "    text = re.sub(r'[^A-Za-z\\s]', '', text)  # Remove special characters\n",
    "    text = text.lower()  # Convert to lowercase\n",
    "    return text"
   ]
  },
  {
   "cell_type": "code",
   "execution_count": 13,
   "metadata": {
    "execution": {
     "iopub.execute_input": "2025-04-22T10:01:49.385297Z",
     "iopub.status.busy": "2025-04-22T10:01:49.384964Z",
     "iopub.status.idle": "2025-04-22T10:01:49.555706Z",
     "shell.execute_reply": "2025-04-22T10:01:49.554825Z",
     "shell.execute_reply.started": "2025-04-22T10:01:49.385266Z"
    },
    "trusted": true
   },
   "outputs": [],
   "source": [
    "data['Text'] = data['Text'].apply(clean_text)"
   ]
  },
  {
   "cell_type": "markdown",
   "metadata": {},
   "source": [
    "### Training data into train and test dataframe"
   ]
  },
  {
   "cell_type": "code",
   "execution_count": 8,
   "metadata": {
    "execution": {
     "iopub.execute_input": "2025-04-22T10:01:14.700819Z",
     "iopub.status.busy": "2025-04-22T10:01:14.700047Z",
     "iopub.status.idle": "2025-04-22T10:01:14.775447Z",
     "shell.execute_reply": "2025-04-22T10:01:14.774531Z",
     "shell.execute_reply.started": "2025-04-22T10:01:14.700785Z"
    },
    "trusted": true
   },
   "outputs": [],
   "source": [
    "X_train, X_test, y_train, y_test = train_test_split(data[\"Text\"], data[\"label\"], test_size=0.3, random_state=42,shuffle=True,)\n",
    "\n",
    "train_df = pd.DataFrame({\"Text\": X_train, \"label\": y_train})\n",
    "test_df = pd.DataFrame({\"Text\": X_test, \"label\": y_test})\n",
    "\n",
    "train_dataset = Dataset.from_pandas(train_df)\n",
    "test_dataset = Dataset.from_pandas(test_df)\n"
   ]
  },
  {
   "cell_type": "markdown",
   "metadata": {},
   "source": [
    "## 2. Tokenize using Hugging Face tokenizer."
   ]
  },
  {
   "cell_type": "code",
   "execution_count": 15,
   "metadata": {
    "execution": {
     "iopub.execute_input": "2025-04-22T10:02:32.394351Z",
     "iopub.status.busy": "2025-04-22T10:02:32.393704Z",
     "iopub.status.idle": "2025-04-22T10:02:37.198470Z",
     "shell.execute_reply": "2025-04-22T10:02:37.197609Z",
     "shell.execute_reply.started": "2025-04-22T10:02:32.394302Z"
    },
    "trusted": true
   },
   "outputs": [
    {
     "data": {
      "application/vnd.jupyter.widget-view+json": {
       "model_id": "1e6c4e7ed88b4455bd9ac0736bc52cab",
       "version_major": 2,
       "version_minor": 0
      },
      "text/plain": [
       "tokenizer_config.json:   0%|          | 0.00/25.0 [00:00<?, ?B/s]"
      ]
     },
     "metadata": {},
     "output_type": "display_data"
    },
    {
     "data": {
      "application/vnd.jupyter.widget-view+json": {
       "model_id": "06138ceb64f848abab1a857f6c07c03c",
       "version_major": 2,
       "version_minor": 0
      },
      "text/plain": [
       "config.json:   0%|          | 0.00/480 [00:00<?, ?B/s]"
      ]
     },
     "metadata": {},
     "output_type": "display_data"
    },
    {
     "data": {
      "application/vnd.jupyter.widget-view+json": {
       "model_id": "e3df3394c2df4c10beffc5c0dd4869c1",
       "version_major": 2,
       "version_minor": 0
      },
      "text/plain": [
       "vocab.json:   0%|          | 0.00/899k [00:00<?, ?B/s]"
      ]
     },
     "metadata": {},
     "output_type": "display_data"
    },
    {
     "data": {
      "application/vnd.jupyter.widget-view+json": {
       "model_id": "eb9e9c9b585e4d4fa6002f12d4121b19",
       "version_major": 2,
       "version_minor": 0
      },
      "text/plain": [
       "merges.txt:   0%|          | 0.00/456k [00:00<?, ?B/s]"
      ]
     },
     "metadata": {},
     "output_type": "display_data"
    },
    {
     "data": {
      "application/vnd.jupyter.widget-view+json": {
       "model_id": "201ab73a128d4c3496f72a78a969dcc9",
       "version_major": 2,
       "version_minor": 0
      },
      "text/plain": [
       "tokenizer.json:   0%|          | 0.00/1.36M [00:00<?, ?B/s]"
      ]
     },
     "metadata": {},
     "output_type": "display_data"
    },
    {
     "data": {
      "application/vnd.jupyter.widget-view+json": {
       "model_id": "6c90f5c5aa54492486dd16ae32ba0e2e",
       "version_major": 2,
       "version_minor": 0
      },
      "text/plain": [
       "Map:   0%|          | 0/13997 [00:00<?, ? examples/s]"
      ]
     },
     "metadata": {},
     "output_type": "display_data"
    },
    {
     "data": {
      "application/vnd.jupyter.widget-view+json": {
       "model_id": "7dab0be8feb6433d847e0f48c7b8fe08",
       "version_major": 2,
       "version_minor": 0
      },
      "text/plain": [
       "Map:   0%|          | 0/5999 [00:00<?, ? examples/s]"
      ]
     },
     "metadata": {},
     "output_type": "display_data"
    }
   ],
   "source": [
    "tokenizer = AutoTokenizer.from_pretrained(\"distilbert/distilroberta-base\")\n",
    "\n",
    "def preprocess_function(examples):\n",
    "    return tokenizer(examples[\"Text\"], truncation=True, padding=True, max_length=512)\n",
    "\n",
    "tokenized_train = train_dataset.map(preprocess_function, batched=True)\n",
    "tokenized_test = test_dataset.map(preprocess_function, batched=True)\n"
   ]
  },
  {
   "cell_type": "code",
   "execution_count": 16,
   "metadata": {
    "execution": {
     "iopub.execute_input": "2025-04-22T10:02:45.253342Z",
     "iopub.status.busy": "2025-04-22T10:02:45.252859Z",
     "iopub.status.idle": "2025-04-22T10:02:45.260403Z",
     "shell.execute_reply": "2025-04-22T10:02:45.259356Z",
     "shell.execute_reply.started": "2025-04-22T10:02:45.253298Z"
    },
    "trusted": true
   },
   "outputs": [
    {
     "data": {
      "text/plain": [
       "Dataset({\n",
       "    features: ['Text', 'label', '__index_level_0__', 'input_ids', 'attention_mask'],\n",
       "    num_rows: 13997\n",
       "})"
      ]
     },
     "execution_count": 16,
     "metadata": {},
     "output_type": "execute_result"
    }
   ],
   "source": [
    "tokenized_train"
   ]
  },
  {
   "cell_type": "code",
   "execution_count": 17,
   "metadata": {
    "execution": {
     "iopub.execute_input": "2025-04-22T10:02:49.030734Z",
     "iopub.status.busy": "2025-04-22T10:02:49.030019Z",
     "iopub.status.idle": "2025-04-22T10:02:50.429214Z",
     "shell.execute_reply": "2025-04-22T10:02:50.428579Z",
     "shell.execute_reply.started": "2025-04-22T10:02:49.030701Z"
    },
    "trusted": true
   },
   "outputs": [
    {
     "data": {
      "application/vnd.jupyter.widget-view+json": {
       "model_id": "70e5a885c3e946d2b4a8614ad1b77893",
       "version_major": 2,
       "version_minor": 0
      },
      "text/plain": [
       "model.safetensors:   0%|          | 0.00/331M [00:00<?, ?B/s]"
      ]
     },
     "metadata": {},
     "output_type": "display_data"
    },
    {
     "name": "stderr",
     "output_type": "stream",
     "text": [
      "Some weights of RobertaForSequenceClassification were not initialized from the model checkpoint at distilbert/distilroberta-base and are newly initialized: ['classifier.dense.bias', 'classifier.dense.weight', 'classifier.out_proj.bias', 'classifier.out_proj.weight']\n",
      "You should probably TRAIN this model on a down-stream task to be able to use it for predictions and inference.\n"
     ]
    }
   ],
   "source": [
    "model = AutoModelForSequenceClassification.from_pretrained(\"distilbert/distilroberta-base\", num_labels=2)  "
   ]
  },
  {
   "cell_type": "code",
   "execution_count": 18,
   "metadata": {
    "execution": {
     "iopub.execute_input": "2025-04-22T10:02:59.350654Z",
     "iopub.status.busy": "2025-04-22T10:02:59.349894Z",
     "iopub.status.idle": "2025-04-22T10:03:00.017386Z",
     "shell.execute_reply": "2025-04-22T10:03:00.016452Z",
     "shell.execute_reply.started": "2025-04-22T10:02:59.350623Z"
    },
    "trusted": true
   },
   "outputs": [
    {
     "data": {
      "application/vnd.jupyter.widget-view+json": {
       "model_id": "26d423ac53a947168338c5a16aedc477",
       "version_major": 2,
       "version_minor": 0
      },
      "text/plain": [
       "Downloading builder script:   0%|          | 0.00/4.20k [00:00<?, ?B/s]"
      ]
     },
     "metadata": {},
     "output_type": "display_data"
    }
   ],
   "source": [
    "# Load accuracy metric\n",
    "accuracy_metric = evaluate.load(\"accuracy\")"
   ]
  },
  {
   "cell_type": "code",
   "execution_count": 19,
   "metadata": {
    "execution": {
     "iopub.execute_input": "2025-04-22T10:03:03.622586Z",
     "iopub.status.busy": "2025-04-22T10:03:03.622244Z",
     "iopub.status.idle": "2025-04-22T10:03:03.627159Z",
     "shell.execute_reply": "2025-04-22T10:03:03.626243Z",
     "shell.execute_reply.started": "2025-04-22T10:03:03.622555Z"
    },
    "trusted": true
   },
   "outputs": [],
   "source": [
    "def compute_metrics(eval_pred):\n",
    "    logits, labels = eval_pred\n",
    "    predictions = np.argmax(logits, axis=-1)  # Take the highest probability as the predicted class\n",
    "    return accuracy_metric.compute(predictions=predictions, references=labels)\n"
   ]
  },
  {
   "cell_type": "markdown",
   "metadata": {},
   "source": [
    "## 3. Fine-tune `distilroberta-base`."
   ]
  },
  {
   "cell_type": "code",
   "execution_count": 15,
   "metadata": {
    "execution": {
     "iopub.execute_input": "2024-12-10T08:45:22.121656Z",
     "iopub.status.busy": "2024-12-10T08:45:22.120751Z",
     "iopub.status.idle": "2024-12-10T09:00:29.267943Z",
     "shell.execute_reply": "2024-12-10T09:00:29.267135Z",
     "shell.execute_reply.started": "2024-12-10T08:45:22.121621Z"
    },
    "trusted": true
   },
   "outputs": [
    {
     "name": "stderr",
     "output_type": "stream",
     "text": [
      "/tmp/ipykernel_23/1814585455.py:29: FutureWarning: `tokenizer` is deprecated and will be removed in version 5.0.0 for `Trainer.__init__`. Use `processing_class` instead.\n",
      "  trainer = Trainer(\n"
     ]
    },
    {
     "data": {
      "text/html": [
       "\n",
       "    <div>\n",
       "      \n",
       "      <progress value='2190' max='2190' style='width:300px; height:20px; vertical-align: middle;'></progress>\n",
       "      [2190/2190 15:06, Epoch 10/10]\n",
       "    </div>\n",
       "    <table border=\"1\" class=\"dataframe\">\n",
       "  <thead>\n",
       " <tr style=\"text-align: left;\">\n",
       "      <th>Epoch</th>\n",
       "      <th>Training Loss</th>\n",
       "      <th>Validation Loss</th>\n",
       "      <th>Accuracy</th>\n",
       "    </tr>\n",
       "  </thead>\n",
       "  <tbody>\n",
       "    <tr>\n",
       "      <td>1</td>\n",
       "      <td>0.107400</td>\n",
       "      <td>0.157041</td>\n",
       "      <td>0.946824</td>\n",
       "    </tr>\n",
       "    <tr>\n",
       "      <td>2</td>\n",
       "      <td>0.101000</td>\n",
       "      <td>0.159168</td>\n",
       "      <td>0.945991</td>\n",
       "    </tr>\n",
       "    <tr>\n",
       "      <td>3</td>\n",
       "      <td>0.103900</td>\n",
       "      <td>0.161691</td>\n",
       "      <td>0.947825</td>\n",
       "    </tr>\n",
       "    <tr>\n",
       "      <td>4</td>\n",
       "      <td>0.095400</td>\n",
       "      <td>0.158832</td>\n",
       "      <td>0.947491</td>\n",
       "    </tr>\n",
       "    <tr>\n",
       "      <td>5</td>\n",
       "      <td>0.093800</td>\n",
       "      <td>0.160742</td>\n",
       "      <td>0.947325</td>\n",
       "    </tr>\n",
       "    <tr>\n",
       "      <td>6</td>\n",
       "      <td>0.093100</td>\n",
       "      <td>0.158928</td>\n",
       "      <td>0.947991</td>\n",
       "    </tr>\n",
       "    <tr>\n",
       "      <td>7</td>\n",
       "      <td>0.096100</td>\n",
       "      <td>0.160353</td>\n",
       "      <td>0.948325</td>\n",
       "    </tr>\n",
       "    <tr>\n",
       "      <td>8</td>\n",
       "      <td>0.085300</td>\n",
       "      <td>0.161543</td>\n",
       "      <td>0.947491</td>\n",
       "    </tr>\n",
       "    <tr>\n",
       "      <td>9</td>\n",
       "      <td>0.097300</td>\n",
       "      <td>0.160497</td>\n",
       "      <td>0.948658</td>\n",
       "    </tr>\n",
       "    <tr>\n",
       "      <td>10</td>\n",
       "      <td>0.098300</td>\n",
       "      <td>0.160208</td>\n",
       "      <td>0.948325</td>\n",
       "    </tr>\n",
       "  </tbody>\n",
       "</table><p>"
      ],
      "text/plain": [
       "<IPython.core.display.HTML object>"
      ]
     },
     "metadata": {},
     "output_type": "display_data"
    },
    {
     "data": {
      "text/plain": [
       "TrainOutput(global_step=2190, training_loss=0.0970242718039038, metrics={'train_runtime': 906.6841, 'train_samples_per_second': 154.376, 'train_steps_per_second': 2.415, 'total_flos': 4487733636372624.0, 'train_loss': 0.0970242718039038, 'epoch': 10.0})"
      ]
     },
     "execution_count": 15,
     "metadata": {},
     "output_type": "execute_result"
    }
   ],
   "source": [
    "# Training Arguments\n",
    "\n",
    "training_args = TrainingArguments(\n",
    "    output_dir=\"./results\",\n",
    "    eval_strategy=\"epoch\",                  # Evaluate after every epoch\n",
    "    learning_rate=1e-6,                     # Learning rate\n",
    "    per_device_train_batch_size=32,         # Batch size for training\n",
    "    per_device_eval_batch_size=32,          # Batch size for evaluation\n",
    "    num_train_epochs=10,                    # Number of epochs\n",
    "    weight_decay=0.01,                      # Regularization\n",
    "    logging_dir=\"./logs\",                   # Directory for logging\n",
    "    logging_steps=100,                      # Log after every 100 steps\n",
    "    save_total_limit=2,                     # Keep only 2 checkpoints\n",
    "    load_best_model_at_end=True,            # Load the best model\n",
    "    save_strategy=\"epoch\",                  # Save model after every epoch\n",
    "    report_to=\"none\",                       # Disable W&B or other integrations\n",
    "    gradient_accumulation_steps=2,          # Accumulate gradients to handle smaller batches\n",
    "    warmup_ratio=0.1                        # Warmup learning rate for stability\n",
    ")\n",
    "\n",
    "# Early Stopping Callback\n",
    "early_stopping = EarlyStoppingCallback(\n",
    "    early_stopping_patience=2,  # Stop training if no improvement after 2 evals\n",
    "    early_stopping_threshold=0.0  # Minimum improvement required\n",
    ")\n",
    "\n",
    "# Define Trainer\n",
    "trainer = Trainer(\n",
    "    model=model,                            # The pre-trained model\n",
    "    args=training_args,                     # Training arguments\n",
    "    train_dataset=tokenized_train,          # Training data\n",
    "    eval_dataset=tokenized_test,            # Evaluation data\n",
    "    tokenizer=tokenizer,                    # Tokenizer for data processing\n",
    "    compute_metrics=compute_metrics,        # Evaluation metrics          \n",
    ")\n",
    "\n",
    "# Train the Model\n",
    "trainer.train()\n",
    "\n"
   ]
  },
  {
   "cell_type": "markdown",
   "metadata": {},
   "source": [
    "## 4. Evaluate accuracy."
   ]
  },
  {
   "cell_type": "code",
   "execution_count": 16,
   "metadata": {
    "execution": {
     "iopub.execute_input": "2024-12-10T09:00:31.821020Z",
     "iopub.status.busy": "2024-12-10T09:00:31.820665Z",
     "iopub.status.idle": "2024-12-10T09:00:40.525715Z",
     "shell.execute_reply": "2024-12-10T09:00:40.524905Z",
     "shell.execute_reply.started": "2024-12-10T09:00:31.820989Z"
    },
    "trusted": true
   },
   "outputs": [
    {
     "data": {
      "text/html": [
       "\n",
       "    <div>\n",
       "      \n",
       "      <progress value='188' max='188' style='width:300px; height:20px; vertical-align: middle;'></progress>\n",
       "      [188/188 00:08]\n",
       "    </div>\n",
       "    "
      ],
      "text/plain": [
       "<IPython.core.display.HTML object>"
      ]
     },
     "metadata": {},
     "output_type": "display_data"
    },
    {
     "name": "stdout",
     "output_type": "stream",
     "text": [
      "Evaluation Results: {'eval_loss': 0.15704137086868286, 'eval_accuracy': 0.9468244707451242, 'eval_runtime': 8.6977, 'eval_samples_per_second': 689.721, 'eval_steps_per_second': 21.615, 'epoch': 10.0}\n"
     ]
    }
   ],
   "source": [
    "# Evaluate the Model\n",
    "evaluation_results = trainer.evaluate()\n",
    "print(f\"Evaluation Results: {evaluation_results}\")\n"
   ]
  },
  {
   "cell_type": "markdown",
   "metadata": {},
   "source": [
    "## 5. Save trained model."
   ]
  },
  {
   "cell_type": "code",
   "execution_count": 17,
   "metadata": {
    "execution": {
     "iopub.execute_input": "2024-12-10T09:00:56.674942Z",
     "iopub.status.busy": "2024-12-10T09:00:56.674081Z",
     "iopub.status.idle": "2024-12-10T09:00:57.529212Z",
     "shell.execute_reply": "2024-12-10T09:00:57.528354Z",
     "shell.execute_reply.started": "2024-12-10T09:00:56.674905Z"
    },
    "trusted": true
   },
   "outputs": [
    {
     "data": {
      "text/plain": [
       "('./saved_model/tokenizer_config.json',\n",
       " './saved_model/special_tokens_map.json',\n",
       " './saved_model/vocab.json',\n",
       " './saved_model/merges.txt',\n",
       " './saved_model/added_tokens.json',\n",
       " './saved_model/tokenizer.json')"
      ]
     },
     "execution_count": 17,
     "metadata": {},
     "output_type": "execute_result"
    }
   ],
   "source": [
    "# Save the model and tokenizer\n",
    "model.save_pretrained(\"./saved_model\")\n",
    "tokenizer.save_pretrained(\"./saved_model\")\n",
    "\n"
   ]
  },
  {
   "cell_type": "code",
   "execution_count": null,
   "metadata": {
    "execution": {
     "iopub.execute_input": "2024-12-10T09:01:01.261497Z",
     "iopub.status.busy": "2024-12-10T09:01:01.261137Z",
     "iopub.status.idle": "2024-12-10T09:01:17.950768Z",
     "shell.execute_reply": "2024-12-10T09:01:17.949872Z",
     "shell.execute_reply.started": "2024-12-10T09:01:01.261466Z"
    },
    "trusted": true
   },
   "outputs": [],
   "source": [
    "# This is just for saving the model from kaggle\n",
    "\n",
    "# import shutil\n",
    "\n",
    "# shutil.make_archive(\"saved_model\", 'zip', \"./saved_model\")\n",
    "\n",
    "# from IPython.display import FileLink\n",
    "# FileLink(\"saved_model.zip\")\n"
   ]
  },
  {
   "cell_type": "code",
   "execution_count": null,
   "metadata": {},
   "outputs": [],
   "source": []
  },
  {
   "cell_type": "code",
   "execution_count": null,
   "metadata": {},
   "outputs": [],
   "source": []
  }
 ],
 "metadata": {
  "kaggle": {
   "accelerator": "gpu",
   "dataSources": [
    {
     "datasetId": 4755091,
     "sourceId": 8061171,
     "sourceType": "datasetVersion"
    }
   ],
   "dockerImageVersionId": 30805,
   "isGpuEnabled": true,
   "isInternetEnabled": true,
   "language": "python",
   "sourceType": "notebook"
  },
  "kernelspec": {
   "display_name": "Python 3",
   "language": "python",
   "name": "python3"
  },
  "language_info": {
   "codemirror_mode": {
    "name": "ipython",
    "version": 3
   },
   "file_extension": ".py",
   "mimetype": "text/x-python",
   "name": "python",
   "nbconvert_exporter": "python",
   "pygments_lexer": "ipython3",
   "version": "3.12.2"
  }
 },
 "nbformat": 4,
 "nbformat_minor": 4
}
